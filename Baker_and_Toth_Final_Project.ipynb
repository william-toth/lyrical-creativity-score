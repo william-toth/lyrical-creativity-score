{
  "cells": [
    {
      "cell_type": "markdown",
      "source": [
        "# Lyrical Creativity Score \n",
        "Charlie Baker (Charles.d.baker.24@dartmouth.edu) <br>\n",
        "Will Toth (william.a.toth.23@dartmouth.edu) <br>\n",
        "Dartmouth College, LING48, Spring 2022 (5/23/2022)\n",
        "\n",
        "Input: csv file with lyrics and other data on over 28,000 songs\n",
        "\n",
        "Output: Most creative genres, most and least lyrically creative artists, Creativity score for any song in the database you type in\n",
        "\n",
        "This code parses through lyrics for every song in the database and returns a creativity score based on 3 different metrics. The last cell of the program asks for a song and returns its creativity score and its breakdown."
      ],
      "metadata": {
        "id": "JFBy-o--bFiC"
      }
    },
    {
      "cell_type": "code",
      "execution_count": 1,
      "metadata": {
        "colab": {
          "base_uri": "https://localhost:8080/"
        },
        "id": "PfFNPSxvH0Zt",
        "outputId": "2909da69-f5e9-4646-ce62-2c6a8d8369c7"
      },
      "outputs": [
        {
          "output_type": "stream",
          "name": "stdout",
          "text": [
            "[nltk_data] Downloading package stopwords to /root/nltk_data...\n",
            "[nltk_data]   Unzipping corpora/stopwords.zip.\n"
          ]
        }
      ],
      "source": [
        "#importing\n",
        "import pandas as pd\n",
        "import io\n",
        "import nltk\n",
        "from nltk.corpus import stopwords\n",
        "from sklearn.cluster import KMeans\n",
        "import math\n",
        "\n",
        "#importing stopwords\n",
        "nltk.download('stopwords')\n",
        "stopwords = stopwords.words('english')"
      ]
    },
    {
      "cell_type": "code",
      "execution_count": 5,
      "metadata": {
        "colab": {
          "base_uri": "https://localhost:8080/",
          "height": 73,
          "resources": {
            "http://localhost:8080/nbextensions/google.colab/files.js": {
              "data": "Ly8gQ29weXJpZ2h0IDIwMTcgR29vZ2xlIExMQwovLwovLyBMaWNlbnNlZCB1bmRlciB0aGUgQXBhY2hlIExpY2Vuc2UsIFZlcnNpb24gMi4wICh0aGUgIkxpY2Vuc2UiKTsKLy8geW91IG1heSBub3QgdXNlIHRoaXMgZmlsZSBleGNlcHQgaW4gY29tcGxpYW5jZSB3aXRoIHRoZSBMaWNlbnNlLgovLyBZb3UgbWF5IG9idGFpbiBhIGNvcHkgb2YgdGhlIExpY2Vuc2UgYXQKLy8KLy8gICAgICBodHRwOi8vd3d3LmFwYWNoZS5vcmcvbGljZW5zZXMvTElDRU5TRS0yLjAKLy8KLy8gVW5sZXNzIHJlcXVpcmVkIGJ5IGFwcGxpY2FibGUgbGF3IG9yIGFncmVlZCB0byBpbiB3cml0aW5nLCBzb2Z0d2FyZQovLyBkaXN0cmlidXRlZCB1bmRlciB0aGUgTGljZW5zZSBpcyBkaXN0cmlidXRlZCBvbiBhbiAiQVMgSVMiIEJBU0lTLAovLyBXSVRIT1VUIFdBUlJBTlRJRVMgT1IgQ09ORElUSU9OUyBPRiBBTlkgS0lORCwgZWl0aGVyIGV4cHJlc3Mgb3IgaW1wbGllZC4KLy8gU2VlIHRoZSBMaWNlbnNlIGZvciB0aGUgc3BlY2lmaWMgbGFuZ3VhZ2UgZ292ZXJuaW5nIHBlcm1pc3Npb25zIGFuZAovLyBsaW1pdGF0aW9ucyB1bmRlciB0aGUgTGljZW5zZS4KCi8qKgogKiBAZmlsZW92ZXJ2aWV3IEhlbHBlcnMgZm9yIGdvb2dsZS5jb2xhYiBQeXRob24gbW9kdWxlLgogKi8KKGZ1bmN0aW9uKHNjb3BlKSB7CmZ1bmN0aW9uIHNwYW4odGV4dCwgc3R5bGVBdHRyaWJ1dGVzID0ge30pIHsKICBjb25zdCBlbGVtZW50ID0gZG9jdW1lbnQuY3JlYXRlRWxlbWVudCgnc3BhbicpOwogIGVsZW1lbnQudGV4dENvbnRlbnQgPSB0ZXh0OwogIGZvciAoY29uc3Qga2V5IG9mIE9iamVjdC5rZXlzKHN0eWxlQXR0cmlidXRlcykpIHsKICAgIGVsZW1lbnQuc3R5bGVba2V5XSA9IHN0eWxlQXR0cmlidXRlc1trZXldOwogIH0KICByZXR1cm4gZWxlbWVudDsKfQoKLy8gTWF4IG51bWJlciBvZiBieXRlcyB3aGljaCB3aWxsIGJlIHVwbG9hZGVkIGF0IGEgdGltZS4KY29uc3QgTUFYX1BBWUxPQURfU0laRSA9IDEwMCAqIDEwMjQ7CgpmdW5jdGlvbiBfdXBsb2FkRmlsZXMoaW5wdXRJZCwgb3V0cHV0SWQpIHsKICBjb25zdCBzdGVwcyA9IHVwbG9hZEZpbGVzU3RlcChpbnB1dElkLCBvdXRwdXRJZCk7CiAgY29uc3Qgb3V0cHV0RWxlbWVudCA9IGRvY3VtZW50LmdldEVsZW1lbnRCeUlkKG91dHB1dElkKTsKICAvLyBDYWNoZSBzdGVwcyBvbiB0aGUgb3V0cHV0RWxlbWVudCB0byBtYWtlIGl0IGF2YWlsYWJsZSBmb3IgdGhlIG5leHQgY2FsbAogIC8vIHRvIHVwbG9hZEZpbGVzQ29udGludWUgZnJvbSBQeXRob24uCiAgb3V0cHV0RWxlbWVudC5zdGVwcyA9IHN0ZXBzOwoKICByZXR1cm4gX3VwbG9hZEZpbGVzQ29udGludWUob3V0cHV0SWQpOwp9CgovLyBUaGlzIGlzIHJvdWdobHkgYW4gYXN5bmMgZ2VuZXJhdG9yIChub3Qgc3VwcG9ydGVkIGluIHRoZSBicm93c2VyIHlldCksCi8vIHdoZXJlIHRoZXJlIGFyZSBtdWx0aXBsZSBhc3luY2hyb25vdXMgc3RlcHMgYW5kIHRoZSBQeXRob24gc2lkZSBpcyBnb2luZwovLyB0byBwb2xsIGZvciBjb21wbGV0aW9uIG9mIGVhY2ggc3RlcC4KLy8gVGhpcyB1c2VzIGEgUHJvbWlzZSB0byBibG9jayB0aGUgcHl0aG9uIHNpZGUgb24gY29tcGxldGlvbiBvZiBlYWNoIHN0ZXAsCi8vIHRoZW4gcGFzc2VzIHRoZSByZXN1bHQgb2YgdGhlIHByZXZpb3VzIHN0ZXAgYXMgdGhlIGlucHV0IHRvIHRoZSBuZXh0IHN0ZXAuCmZ1bmN0aW9uIF91cGxvYWRGaWxlc0NvbnRpbnVlKG91dHB1dElkKSB7CiAgY29uc3Qgb3V0cHV0RWxlbWVudCA9IGRvY3VtZW50LmdldEVsZW1lbnRCeUlkKG91dHB1dElkKTsKICBjb25zdCBzdGVwcyA9IG91dHB1dEVsZW1lbnQuc3RlcHM7CgogIGNvbnN0IG5leHQgPSBzdGVwcy5uZXh0KG91dHB1dEVsZW1lbnQubGFzdFByb21pc2VWYWx1ZSk7CiAgcmV0dXJuIFByb21pc2UucmVzb2x2ZShuZXh0LnZhbHVlLnByb21pc2UpLnRoZW4oKHZhbHVlKSA9PiB7CiAgICAvLyBDYWNoZSB0aGUgbGFzdCBwcm9taXNlIHZhbHVlIHRvIG1ha2UgaXQgYXZhaWxhYmxlIHRvIHRoZSBuZXh0CiAgICAvLyBzdGVwIG9mIHRoZSBnZW5lcmF0b3IuCiAgICBvdXRwdXRFbGVtZW50Lmxhc3RQcm9taXNlVmFsdWUgPSB2YWx1ZTsKICAgIHJldHVybiBuZXh0LnZhbHVlLnJlc3BvbnNlOwogIH0pOwp9CgovKioKICogR2VuZXJhdG9yIGZ1bmN0aW9uIHdoaWNoIGlzIGNhbGxlZCBiZXR3ZWVuIGVhY2ggYXN5bmMgc3RlcCBvZiB0aGUgdXBsb2FkCiAqIHByb2Nlc3MuCiAqIEBwYXJhbSB7c3RyaW5nfSBpbnB1dElkIEVsZW1lbnQgSUQgb2YgdGhlIGlucHV0IGZpbGUgcGlja2VyIGVsZW1lbnQuCiAqIEBwYXJhbSB7c3RyaW5nfSBvdXRwdXRJZCBFbGVtZW50IElEIG9mIHRoZSBvdXRwdXQgZGlzcGxheS4KICogQHJldHVybiB7IUl0ZXJhYmxlPCFPYmplY3Q+fSBJdGVyYWJsZSBvZiBuZXh0IHN0ZXBzLgogKi8KZnVuY3Rpb24qIHVwbG9hZEZpbGVzU3RlcChpbnB1dElkLCBvdXRwdXRJZCkgewogIGNvbnN0IGlucHV0RWxlbWVudCA9IGRvY3VtZW50LmdldEVsZW1lbnRCeUlkKGlucHV0SWQpOwogIGlucHV0RWxlbWVudC5kaXNhYmxlZCA9IGZhbHNlOwoKICBjb25zdCBvdXRwdXRFbGVtZW50ID0gZG9jdW1lbnQuZ2V0RWxlbWVudEJ5SWQob3V0cHV0SWQpOwogIG91dHB1dEVsZW1lbnQuaW5uZXJIVE1MID0gJyc7CgogIGNvbnN0IHBpY2tlZFByb21pc2UgPSBuZXcgUHJvbWlzZSgocmVzb2x2ZSkgPT4gewogICAgaW5wdXRFbGVtZW50LmFkZEV2ZW50TGlzdGVuZXIoJ2NoYW5nZScsIChlKSA9PiB7CiAgICAgIHJlc29sdmUoZS50YXJnZXQuZmlsZXMpOwogICAgfSk7CiAgfSk7CgogIGNvbnN0IGNhbmNlbCA9IGRvY3VtZW50LmNyZWF0ZUVsZW1lbnQoJ2J1dHRvbicpOwogIGlucHV0RWxlbWVudC5wYXJlbnRFbGVtZW50LmFwcGVuZENoaWxkKGNhbmNlbCk7CiAgY2FuY2VsLnRleHRDb250ZW50ID0gJ0NhbmNlbCB1cGxvYWQnOwogIGNvbnN0IGNhbmNlbFByb21pc2UgPSBuZXcgUHJvbWlzZSgocmVzb2x2ZSkgPT4gewogICAgY2FuY2VsLm9uY2xpY2sgPSAoKSA9PiB7CiAgICAgIHJlc29sdmUobnVsbCk7CiAgICB9OwogIH0pOwoKICAvLyBXYWl0IGZvciB0aGUgdXNlciB0byBwaWNrIHRoZSBmaWxlcy4KICBjb25zdCBmaWxlcyA9IHlpZWxkIHsKICAgIHByb21pc2U6IFByb21pc2UucmFjZShbcGlja2VkUHJvbWlzZSwgY2FuY2VsUHJvbWlzZV0pLAogICAgcmVzcG9uc2U6IHsKICAgICAgYWN0aW9uOiAnc3RhcnRpbmcnLAogICAgfQogIH07CgogIGNhbmNlbC5yZW1vdmUoKTsKCiAgLy8gRGlzYWJsZSB0aGUgaW5wdXQgZWxlbWVudCBzaW5jZSBmdXJ0aGVyIHBpY2tzIGFyZSBub3QgYWxsb3dlZC4KICBpbnB1dEVsZW1lbnQuZGlzYWJsZWQgPSB0cnVlOwoKICBpZiAoIWZpbGVzKSB7CiAgICByZXR1cm4gewogICAgICByZXNwb25zZTogewogICAgICAgIGFjdGlvbjogJ2NvbXBsZXRlJywKICAgICAgfQogICAgfTsKICB9CgogIGZvciAoY29uc3QgZmlsZSBvZiBmaWxlcykgewogICAgY29uc3QgbGkgPSBkb2N1bWVudC5jcmVhdGVFbGVtZW50KCdsaScpOwogICAgbGkuYXBwZW5kKHNwYW4oZmlsZS5uYW1lLCB7Zm9udFdlaWdodDogJ2JvbGQnfSkpOwogICAgbGkuYXBwZW5kKHNwYW4oCiAgICAgICAgYCgke2ZpbGUudHlwZSB8fCAnbi9hJ30pIC0gJHtmaWxlLnNpemV9IGJ5dGVzLCBgICsKICAgICAgICBgbGFzdCBtb2RpZmllZDogJHsKICAgICAgICAgICAgZmlsZS5sYXN0TW9kaWZpZWREYXRlID8gZmlsZS5sYXN0TW9kaWZpZWREYXRlLnRvTG9jYWxlRGF0ZVN0cmluZygpIDoKICAgICAgICAgICAgICAgICAgICAgICAgICAgICAgICAgICAgJ24vYSd9IC0gYCkpOwogICAgY29uc3QgcGVyY2VudCA9IHNwYW4oJzAlIGRvbmUnKTsKICAgIGxpLmFwcGVuZENoaWxkKHBlcmNlbnQpOwoKICAgIG91dHB1dEVsZW1lbnQuYXBwZW5kQ2hpbGQobGkpOwoKICAgIGNvbnN0IGZpbGVEYXRhUHJvbWlzZSA9IG5ldyBQcm9taXNlKChyZXNvbHZlKSA9PiB7CiAgICAgIGNvbnN0IHJlYWRlciA9IG5ldyBGaWxlUmVhZGVyKCk7CiAgICAgIHJlYWRlci5vbmxvYWQgPSAoZSkgPT4gewogICAgICAgIHJlc29sdmUoZS50YXJnZXQucmVzdWx0KTsKICAgICAgfTsKICAgICAgcmVhZGVyLnJlYWRBc0FycmF5QnVmZmVyKGZpbGUpOwogICAgfSk7CiAgICAvLyBXYWl0IGZvciB0aGUgZGF0YSB0byBiZSByZWFkeS4KICAgIGxldCBmaWxlRGF0YSA9IHlpZWxkIHsKICAgICAgcHJvbWlzZTogZmlsZURhdGFQcm9taXNlLAogICAgICByZXNwb25zZTogewogICAgICAgIGFjdGlvbjogJ2NvbnRpbnVlJywKICAgICAgfQogICAgfTsKCiAgICAvLyBVc2UgYSBjaHVua2VkIHNlbmRpbmcgdG8gYXZvaWQgbWVzc2FnZSBzaXplIGxpbWl0cy4gU2VlIGIvNjIxMTU2NjAuCiAgICBsZXQgcG9zaXRpb24gPSAwOwogICAgZG8gewogICAgICBjb25zdCBsZW5ndGggPSBNYXRoLm1pbihmaWxlRGF0YS5ieXRlTGVuZ3RoIC0gcG9zaXRpb24sIE1BWF9QQVlMT0FEX1NJWkUpOwogICAgICBjb25zdCBjaHVuayA9IG5ldyBVaW50OEFycmF5KGZpbGVEYXRhLCBwb3NpdGlvbiwgbGVuZ3RoKTsKICAgICAgcG9zaXRpb24gKz0gbGVuZ3RoOwoKICAgICAgY29uc3QgYmFzZTY0ID0gYnRvYShTdHJpbmcuZnJvbUNoYXJDb2RlLmFwcGx5KG51bGwsIGNodW5rKSk7CiAgICAgIHlpZWxkIHsKICAgICAgICByZXNwb25zZTogewogICAgICAgICAgYWN0aW9uOiAnYXBwZW5kJywKICAgICAgICAgIGZpbGU6IGZpbGUubmFtZSwKICAgICAgICAgIGRhdGE6IGJhc2U2NCwKICAgICAgICB9LAogICAgICB9OwoKICAgICAgbGV0IHBlcmNlbnREb25lID0gZmlsZURhdGEuYnl0ZUxlbmd0aCA9PT0gMCA/CiAgICAgICAgICAxMDAgOgogICAgICAgICAgTWF0aC5yb3VuZCgocG9zaXRpb24gLyBmaWxlRGF0YS5ieXRlTGVuZ3RoKSAqIDEwMCk7CiAgICAgIHBlcmNlbnQudGV4dENvbnRlbnQgPSBgJHtwZXJjZW50RG9uZX0lIGRvbmVgOwoKICAgIH0gd2hpbGUgKHBvc2l0aW9uIDwgZmlsZURhdGEuYnl0ZUxlbmd0aCk7CiAgfQoKICAvLyBBbGwgZG9uZS4KICB5aWVsZCB7CiAgICByZXNwb25zZTogewogICAgICBhY3Rpb246ICdjb21wbGV0ZScsCiAgICB9CiAgfTsKfQoKc2NvcGUuZ29vZ2xlID0gc2NvcGUuZ29vZ2xlIHx8IHt9OwpzY29wZS5nb29nbGUuY29sYWIgPSBzY29wZS5nb29nbGUuY29sYWIgfHwge307CnNjb3BlLmdvb2dsZS5jb2xhYi5fZmlsZXMgPSB7CiAgX3VwbG9hZEZpbGVzLAogIF91cGxvYWRGaWxlc0NvbnRpbnVlLAp9Owp9KShzZWxmKTsK",
              "headers": [
                [
                  "content-type",
                  "application/javascript"
                ]
              ],
              "ok": true,
              "status": 200,
              "status_text": ""
            }
          }
        },
        "id": "5wtssf7gKQgw",
        "outputId": "c6eefbc9-db28-4127-ae68-9e5d51418b39"
      },
      "outputs": [
        {
          "output_type": "display_data",
          "data": {
            "text/plain": [
              "<IPython.core.display.HTML object>"
            ],
            "text/html": [
              "\n",
              "     <input type=\"file\" id=\"files-06bdb3a9-945f-484a-a4bd-32b0f2be9e94\" name=\"files[]\" multiple disabled\n",
              "        style=\"border:none\" />\n",
              "     <output id=\"result-06bdb3a9-945f-484a-a4bd-32b0f2be9e94\">\n",
              "      Upload widget is only available when the cell has been executed in the\n",
              "      current browser session. Please rerun this cell to enable.\n",
              "      </output>\n",
              "      <script src=\"/nbextensions/google.colab/files.js\"></script> "
            ]
          },
          "metadata": {}
        },
        {
          "output_type": "stream",
          "name": "stdout",
          "text": [
            "Saving tcc_ceds_music.csv to tcc_ceds_music (1).csv\n"
          ]
        }
      ],
      "source": [
        "#uploading our csv file with all the songs and their data\n",
        "from google.colab import files\n",
        "uploaded = files.upload()\n",
        "df = pd.read_csv(io.BytesIO(uploaded['tcc_ceds_music.csv']))"
      ]
    },
    {
      "cell_type": "code",
      "execution_count": 6,
      "metadata": {
        "id": "fFuTVObASQYM"
      },
      "outputs": [],
      "source": [
        "wordDict = {} #Dict containing all of the words that show up in the lyrics which aren't stopwords as keys and their counts as values\n",
        "dictOfSongDicts = {} #Dict of song dicts which contain all the non-stopwords words in the song and their counts\n",
        "totalWords = {} #dictionary where song names are the keys and its values are the length of the lyrics without stopwords\n",
        "\n",
        "for i in range(df.shape[0]): #loops through all of the songs\n",
        "  songDict = {}\n",
        "  song = df.at[i, 'lyrics']\n",
        "  lyrics = song.split( )\n",
        "  lyricsNoStopWords = [lyric for lyric in lyrics if lyric not in stopwords]\n",
        "\n",
        "  #loops through every individual word in the song lyrics that isn't a stopword\n",
        "  for word in lyricsNoStopWords:\n",
        "    if word in wordDict:\n",
        "      wordDict[word] += 1\n",
        "    else:\n",
        "      wordDict[word] = 1   \n",
        "    if word in songDict:\n",
        "      songDict[word] += 1\n",
        "    else:\n",
        "      songDict[word] = 1 \n",
        "  dictOfSongDicts[df.at[i, 'track_name']] = songDict #putting each songdict into the dict of dicts\n",
        "  totalWords[df.at[i, 'track_name']] = len(lyricsNoStopWords)"
      ]
    },
    {
      "cell_type": "code",
      "execution_count": 7,
      "metadata": {
        "id": "oidO7gerUzEJ"
      },
      "outputs": [],
      "source": [
        "#Logging Creativity scores for each song\n",
        "dictOfCreativityDicts = {} #dictionary where keys are song names and values is the dictionary containing its creativity scores\n",
        "bestDBTotalCount = math.inf\n",
        "worstDBTotalCount = 0\n",
        "\n",
        "for i in range(df.shape[0]): #looping through songs\n",
        "  creativityDict = {}\n",
        "  currDict = dictOfSongDicts[df.at[i, 'track_name']]\n",
        "  creativityDict['Repetitive Score'] = len(currDict)/totalWords[df.at[i, 'track_name']] #unique words in song over total words in the song\n",
        "\n",
        "  databaseTotalCount = 0 #inter-song frequency of words in song\n",
        "  for word in currDict.keys():  #iterating through unique words in each song\n",
        "    databaseTotalCount += wordDict[word]\n",
        "  avgNormFreq = databaseTotalCount / len(currDict)\n",
        "  creativityDict['AVGDataBaseFrequency'] = avgNormFreq #avg frequency in the total database of words in song\n",
        "\n",
        "  #setting best and worst values so we can scale later\n",
        "  worstDBTotalCount = max(worstDBTotalCount,avgNormFreq)\n",
        "  bestDBTotalCount = min(bestDBTotalCount,avgNormFreq)\n",
        "\n",
        "  dictOfCreativityDicts[df.at[i, 'track_name']] = creativityDict #adding each songs creativity "
      ]
    },
    {
      "cell_type": "code",
      "execution_count": 8,
      "metadata": {
        "id": "6h0URYleezy5"
      },
      "outputs": [],
      "source": [
        "#Changing to a scale from 0 to 1 based on best and worst scores\n",
        "for song in dictOfCreativityDicts.keys():\n",
        "  score = dictOfCreativityDicts[song]['AVGDataBaseFrequency']\n",
        "  dictOfCreativityDicts[song]['AVGDataBaseFrequency'] = 1 - (score - bestDBTotalCount) / (worstDBTotalCount - bestDBTotalCount)"
      ]
    },
    {
      "cell_type": "code",
      "execution_count": 9,
      "metadata": {
        "colab": {
          "base_uri": "https://localhost:8080/"
        },
        "id": "fOXk5DlLrMHh",
        "outputId": "29f10e0c-b498-4d14-d3d1-00165e693312"
      },
      "outputs": [
        {
          "output_type": "execute_result",
          "data": {
            "text/plain": [
              "array([8, 0, 7, ..., 4, 4, 4], dtype=int32)"
            ]
          },
          "metadata": {},
          "execution_count": 9
        }
      ],
      "source": [
        "#KMeans\n",
        "\n",
        "x = df.iloc[:,8:28] #set features\n",
        "kmeans = KMeans(10)\n",
        "kmeans.fit(x)\n",
        "identified_clusters = kmeans.fit_predict(x)\n",
        "identified_clusters"
      ]
    },
    {
      "cell_type": "code",
      "execution_count": 10,
      "metadata": {
        "id": "UrM3q99QuXct"
      },
      "outputs": [],
      "source": [
        "#add the variance of distances for each song to dictionary\n",
        "meansDict = {}\n",
        "dist = abs(kmeans.transform(x))\n",
        "for i in range(df.shape[0]):\n",
        "  mean = sum(dist[i])/10\n",
        "  arr = []\n",
        "  for val in dist[i]:\n",
        "    arr.append((val-mean)**2)\n",
        "  v = sum(arr)/10\n",
        "  meansDict[df.at[i,\"track_name\"]] = v"
      ]
    },
    {
      "cell_type": "code",
      "execution_count": 11,
      "metadata": {
        "id": "X_nIeEVqCZVx"
      },
      "outputs": [],
      "source": [
        "#get the bottom and top bounds\n",
        "bot = math.inf\n",
        "top = 0\n",
        "for num in meansDict.values():\n",
        "  top = max(top,num)\n",
        "  bot = min(bot,num)\n",
        "#convert on scale of 0 to 1\n",
        "for song,num in meansDict.items():\n",
        "  meansDict[song] = 1 - (num-bot) / (top-bot)\n"
      ]
    },
    {
      "cell_type": "code",
      "execution_count": 12,
      "metadata": {
        "id": "RS3oR1xDFAXu"
      },
      "outputs": [],
      "source": [
        "#add to large dictionary\n",
        "for song, dictionary in dictOfCreativityDicts.items():\n",
        "  if song in meansDict:\n",
        "    dictionary[\"KmeansVariance\"] = meansDict[song]\n",
        "    dictOfCreativityDicts[song]=dictionary"
      ]
    },
    {
      "cell_type": "code",
      "execution_count": 13,
      "metadata": {
        "id": "-gt31FGPKl0p"
      },
      "outputs": [],
      "source": [
        "#Creating an artist dict whose keys are artist names and values are all of their songs in the dataset\n",
        "artistDict = {}\n",
        "for i in range(df.shape[0]):\n",
        "  artist = df.at[i, 'artist_name']\n",
        "  song = df.at[i, 'track_name']\n",
        "  if artist in artistDict.keys():\n",
        "    artistDict[artist].append(song)\n",
        "  else:\n",
        "    artistDict[artist] = [song]\n",
        "\n",
        "#eliminating artists with fewer than 3 songs\n",
        "bigArtistDict = artistDict.copy()\n",
        "for artist in bigArtistDict.keys():\n",
        "  if len(artistDict[artist]) < 3:\n",
        "    artistDict.pop(artist)"
      ]
    },
    {
      "cell_type": "code",
      "execution_count": 14,
      "metadata": {
        "id": "Y9N7eVURR36C"
      },
      "outputs": [],
      "source": [
        "#Averaging all of an artists songs' creativity scores into scores for the artist\n",
        "artistScoreDict = {}\n",
        "for artist in artistDict.keys():\n",
        "  avgFreq = 0\n",
        "  avgNormFreq = 0\n",
        "  uniqueTotalWords = 0\n",
        "  for song in artistDict[artist]:\n",
        "    avgFreq += dictOfCreativityDicts[song]['Repetitive Score']\n",
        "    avgNormFreq += dictOfCreativityDicts[song]['AVGDataBaseFrequency']\n",
        "    uniqueTotalWords += dictOfCreativityDicts[song]['KmeansVariance']\n",
        "  avgFreq = avgFreq / len(artistDict[artist])\n",
        "  avgNormFreq = avgNormFreq / len(artistDict[artist])\n",
        "  uniqueTotalWords = uniqueTotalWords / len(artistDict[artist])\n",
        "\n",
        "  #Creating a dictionary of all of an artist's scores and then putting the dictionary into the artistScoreDict\n",
        "  artistScore = {'Repetitive Score':avgFreq, 'Unique language Score':avgNormFreq, 'Genre Nonconformity Score':uniqueTotalWords}\n",
        "  artistScoreDict[artist] = artistScore"
      ]
    },
    {
      "cell_type": "code",
      "execution_count": 15,
      "metadata": {
        "colab": {
          "base_uri": "https://localhost:8080/"
        },
        "id": "kKu8pHXSPT29",
        "outputId": "6c2550f7-fc38-40e8-9083-8abebb44c661"
      },
      "outputs": [
        {
          "output_type": "stream",
          "name": "stdout",
          "text": [
            "[('pop', 1.4599532172283922), ('blues', 1.8812985414013035), ('reggae', 1.9118545309113335), ('hip hop', 1.9457905753074223), ('rock', 1.9712115555636442), ('jazz', 2.0923667409922198), ('country', 2.0983864401016064)]\n"
          ]
        }
      ],
      "source": [
        "#Creating a dictionary of where the keys are genre names and the values are lists of all the songs in that genre\n",
        "genreDict = {}\n",
        "for i in range(df.shape[0]):\n",
        "  genre = df.at[i, 'genre']\n",
        "  song = df.at[i, 'track_name']\n",
        "  if artist in genreDict.keys():\n",
        "    genreDict[genre].append(song)\n",
        "  else:\n",
        "    genreDict[genre] = [song]\n",
        "\n",
        "#Creating a dictionary of the avg creativity scores for each genre\n",
        "genreScoreDict = {}\n",
        "for genre in genreDict.keys():\n",
        "  avgFreq = 0\n",
        "  avgNormFreq = 0\n",
        "  uniqueTotalWords = 0\n",
        "  for song in genreDict[genre]:\n",
        "    avgFreq += dictOfCreativityDicts[song]['Repetitive Score']\n",
        "    avgNormFreq += dictOfCreativityDicts[song]['AVGDataBaseFrequency']\n",
        "    uniqueTotalWords += dictOfCreativityDicts[song]['KmeansVariance']\n",
        "\n",
        "  #averaging them across the number of songs in the genre\n",
        "  avgFreq = avgFreq / len(genreDict[genre])\n",
        "  avgNormFreq = avgNormFreq / len(genreDict[genre])\n",
        "  uniqueTotalWords = uniqueTotalWords / len(genreDict[genre])\n",
        "\n",
        "  #creating a dictionary which contains the corresponding creativity scores for each genre\n",
        "  genreScore = {'Repetitive Score':avgFreq, 'Unique language Score':avgNormFreq, 'Genre Nonconformity Score':uniqueTotalWords}\n",
        "  genreScoreDict[genre] = genreScore\n",
        "\n",
        "#creating a list which contains each genre and its composite lyrical creativity score\n",
        "genres = []\n",
        "for key, val in genreScoreDict.items():\n",
        "  genres.append((key, val[\"Repetitive Score\"]+val[\"Unique language Score\"]+val[\"Genre Nonconformity Score\"]))\n",
        "\n",
        "#sorting the genres from least creative to most creative\n",
        "genres.sort(key = lambda x:x[1])\n",
        "print(genres)"
      ]
    },
    {
      "cell_type": "code",
      "execution_count": 16,
      "metadata": {
        "colab": {
          "base_uri": "https://localhost:8080/"
        },
        "id": "6Lv8Gq2SN4OF",
        "outputId": "2250db78-f965-4647-b62b-eba0134f270d"
      },
      "outputs": [
        {
          "output_type": "stream",
          "name": "stdout",
          "text": [
            "[('mindless self indulgence', 1.2741712059199497), ('*nsync', 1.3462120518818417), ('galantis', 1.406688845563098), ('natasha bedingfield', 1.4552404246331498), ('will.i.am', 1.4573645489810807)]\n",
            "[('massacre', 2.4066903773230885), ('lincoln durham', 2.427132666758239), ('typical cats', 2.4350062052287362), ('ulver', 2.4487068091278132), ('deca', 2.5029758770611408)]\n"
          ]
        }
      ],
      "source": [
        "#Creating a list of all the artists with more than 3 songs in the database and their composite lyrical creativity score\n",
        "artists = []\n",
        "for key, val in artistScoreDict.items():\n",
        "  artists.append((key, val[\"Repetitive Score\"]+val[\"Unique language Score\"]+val[\"Genre Nonconformity Score\"]))\n",
        "\n",
        "#sorting the artists and then printing out the top five least creative and then the top 5 most creative\n",
        "artists.sort(key = lambda x:x[1])\n",
        "print(artists[:5])\n",
        "print(artists[-5:])"
      ]
    },
    {
      "cell_type": "code",
      "execution_count": 18,
      "metadata": {
        "colab": {
          "base_uri": "https://localhost:8080/"
        },
        "id": "1R9O21xHcQ6T",
        "outputId": "dd31fdf4-8f76-4fc4-c993-43da5dfd871e"
      },
      "outputs": [
        {
          "output_type": "stream",
          "name": "stdout",
          "text": [
            "type in a song to see it's creativity score\n",
            "note: type all song names in lowercase\n",
            "heartache medication\n",
            "\n",
            "Baker-Toth Lyrical Creativity Index Composite: 0.5146344976092134\n",
            "\n",
            "Non Repetitiveness: 0.4368932038834951\n",
            "\n",
            "Uniqueness: 0.8513203432139433\n",
            "\n",
            "Non similarity to other songs: 0.25568994573020165\n",
            "\n",
            "Most creative artists: \n",
            "['blockhead', 'shane & shane', 'wu-tang clan', 'meshuggah', 'killah priest', 'll cool j', 'timbaland & magoo', 'joe henderson', 'mr. bungle', 'tinariwen', 'gorguts', 'louis the child', 'the uniques', 'pestilence', 'the walters', 'steps ahead', 'the mars volta', 'lee morgan', 'alpha & omega', 'boozoo bajou', 'massacre', 'lincoln durham', 'typical cats', 'ulver', 'deca']\n",
            "\n",
            "Least creative artists:\n",
            "['mindless self indulgence', '*nsync', 'galantis', 'natasha bedingfield', 'will.i.am', 'bruno mars', 'selena gomez', 'big brother & the holding company', 'bushman', 'giant panda guerilla dub squad', 'ingrid michaelson', 'collie buddz', 'eurythmics', 'grouplove', 'pat travers', 'jennifer lopez', 'sister sledge', 'mukesh', 'sudan archives', 'trapt', 'lady gaga', 'spice girls', 'inner circle', 'chris brown', 'charley patton']\n",
            "\n",
            "Genres ranked by creativity index (ascending order))\n",
            "['pop', 'blues', 'reggae', 'hip hop', 'rock', 'jazz', 'country']\n"
          ]
        }
      ],
      "source": [
        "print(\"type in a song to see it's creativity score\")\n",
        "print(\"note: type all song names in lowercase\")\n",
        "currsong = input()\n",
        "if currsong not in dictOfCreativityDicts:\n",
        "  print(\"\\nSorry: this song is not in our set\")\n",
        "else:\n",
        "  print(\"\\nBaker-Toth Lyrical Creativity Index Composite: \" + str((dictOfCreativityDicts[currsong]['Repetitive Score'] + dictOfCreativityDicts[currsong]['AVGDataBaseFrequency'] + dictOfCreativityDicts[currsong]['KmeansVariance'])/3))\n",
        "  print(\"\")\n",
        "  print(\"Non Repetitiveness: \" + str(dictOfCreativityDicts[currsong][\"Repetitive Score\"]))\n",
        "  print(\"\")\n",
        "  print(\"Uniqueness: \" + str(dictOfCreativityDicts[currsong][\"AVGDataBaseFrequency\"]))\n",
        "  print(\"\")\n",
        "  print(\"Non similarity to other songs: \" + str(dictOfCreativityDicts[currsong][\"KmeansVariance\"]))\n",
        "  print(\"\")\n",
        "  print(\"Most creative artists: \")\n",
        "  print([x[0] for x in artists[-25:]])\n",
        "  print(\"\")\n",
        "  print(\"Least creative artists:\")\n",
        "  print([x[0] for x in artists[:25]])\n",
        "  print(\"\")\n",
        "  print(\"Genres ranked by creativity index (ascending order))\")\n",
        "  print([x[0] for x in genres])"
      ]
    },
    {
      "cell_type": "code",
      "execution_count": 18,
      "metadata": {
        "id": "70DDngfZfsO7"
      },
      "outputs": [],
      "source": [
        ""
      ]
    }
  ],
  "metadata": {
    "colab": {
      "collapsed_sections": [],
      "name": "Baker and Toth Final Project",
      "provenance": []
    },
    "kernelspec": {
      "display_name": "Python 3",
      "name": "python3"
    },
    "language_info": {
      "name": "python"
    }
  },
  "nbformat": 4,
  "nbformat_minor": 0
}